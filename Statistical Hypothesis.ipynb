{
 "cells": [
  {
   "cell_type": "code",
   "execution_count": 1,
   "id": "f8a58504",
   "metadata": {},
   "outputs": [],
   "source": [
    "import pandas as pd\n",
    "df = pd.read_csv('D:\\sem-6\\DSPL\\DSPL_LAB-main\\House_Rent_main6-main1.csv')"
   ]
  },
  {
   "cell_type": "code",
   "execution_count": 2,
   "id": "25b0b8fe",
   "metadata": {},
   "outputs": [],
   "source": [
    "df1 = df"
   ]
  },
  {
   "cell_type": "code",
   "execution_count": 3,
   "id": "32bab934",
   "metadata": {},
   "outputs": [],
   "source": [
    "#import dependencies \n",
    "from scipy import stats "
   ]
  },
  {
   "cell_type": "code",
   "execution_count": 4,
   "id": "95849881",
   "metadata": {},
   "outputs": [
    {
     "data": {
      "text/plain": [
       "0       2\n",
       "1       2\n",
       "2       2\n",
       "3       2\n",
       "4       2\n",
       "       ..\n",
       "4712    2\n",
       "4713    3\n",
       "4714    3\n",
       "4715    3\n",
       "4716    2\n",
       "Name: BHK, Length: 4717, dtype: int64"
      ]
     },
     "execution_count": 4,
     "metadata": {},
     "output_type": "execute_result"
    }
   ],
   "source": [
    "#choosing a column \n",
    "data = df1[\"BHK\"] \n",
    "data"
   ]
  },
  {
   "cell_type": "code",
   "execution_count": 5,
   "id": "d9e54cc0",
   "metadata": {},
   "outputs": [
    {
     "data": {
      "text/plain": [
       "TtestResult(statistic=177.89249116396823, pvalue=0.0, df=4716)"
      ]
     },
     "execution_count": 5,
     "metadata": {},
     "output_type": "execute_result"
    }
   ],
   "source": [
    "#t-test for charges \n",
    "stats.ttest_1samp(data, 0) "
   ]
  },
  {
   "cell_type": "code",
   "execution_count": 6,
   "id": "e86d9da2",
   "metadata": {},
   "outputs": [
    {
     "data": {
      "text/plain": [
       "TtestResult(statistic=91.77602145743721, pvalue=0.0, df=4716)"
      ]
     },
     "execution_count": 6,
     "metadata": {},
     "output_type": "execute_result"
    }
   ],
   "source": [
    "#t-test for charges \n",
    "stats.ttest_1samp(data, 1)"
   ]
  },
  {
   "cell_type": "code",
   "execution_count": 7,
   "id": "a8acbc0a",
   "metadata": {},
   "outputs": [
    {
     "name": "stdout",
     "output_type": "stream",
     "text": [
      "-430404.45604149107 0.0\n"
     ]
    }
   ],
   "source": [
    "t_statistic, p_value = stats.ttest_1samp(a=data, popmean=5000)\n",
    "print(t_statistic , p_value)"
   ]
  },
  {
   "cell_type": "code",
   "execution_count": null,
   "id": "c600e261",
   "metadata": {},
   "outputs": [],
   "source": []
  },
  {
   "cell_type": "code",
   "execution_count": null,
   "id": "f5bd4913",
   "metadata": {},
   "outputs": [],
   "source": []
  }
 ],
 "metadata": {
  "kernelspec": {
   "display_name": "Python 3 (ipykernel)",
   "language": "python",
   "name": "python3"
  },
  "language_info": {
   "codemirror_mode": {
    "name": "ipython",
    "version": 3
   },
   "file_extension": ".py",
   "mimetype": "text/x-python",
   "name": "python",
   "nbconvert_exporter": "python",
   "pygments_lexer": "ipython3",
   "version": "3.10.7"
  }
 },
 "nbformat": 4,
 "nbformat_minor": 5
}
